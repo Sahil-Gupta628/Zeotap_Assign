{
 "cells": [
  {
   "cell_type": "code",
   "execution_count": 1,
   "id": "9dc0f45a",
   "metadata": {},
   "outputs": [],
   "source": [
    "# Import libraries\n",
    "import pandas as pd\n",
    "from sklearn.feature_extraction.text import CountVectorizer\n",
    "from sklearn.metrics.pairwise import cosine_similarity"
   ]
  },
  {
   "cell_type": "code",
   "execution_count": 2,
   "id": "1d0090ad",
   "metadata": {},
   "outputs": [],
   "source": [
    "# Load datasets\n",
    "customers = pd.read_csv('Customers.csv')\n",
    "transactions = pd.read_csv('Transactions.csv')\n",
    "products = pd.read_csv('Products.csv')"
   ]
  },
  {
   "cell_type": "code",
   "execution_count": 3,
   "id": "d2b39716",
   "metadata": {},
   "outputs": [],
   "source": [
    "# Merge datasets\n",
    "merged_data = transactions.merge(customers, on='CustomerID').merge(products, on='ProductID')"
   ]
  },
  {
   "cell_type": "code",
   "execution_count": 4,
   "id": "deb88f66",
   "metadata": {},
   "outputs": [],
   "source": [
    "# Create customer profiles\n",
    "customer_profiles = merged_data.groupby('CustomerID').agg({\n",
    "    'TotalValue': 'sum',\n",
    "    'Quantity': 'sum',\n",
    "    'Category': lambda x: ' '.join(x),  # Combine categories as a string\n",
    "    'Region': 'first'\n",
    "}).reset_index()"
   ]
  },
  {
   "cell_type": "code",
   "execution_count": 5,
   "id": "1155d15c",
   "metadata": {},
   "outputs": [
    {
     "name": "stdout",
     "output_type": "stream",
     "text": [
      "  CustomerID  TotalValue  Quantity  \\\n",
      "0      C0001     3354.52        12   \n",
      "1      C0002     1862.74        10   \n",
      "2      C0003     2725.38        14   \n",
      "3      C0004     5354.88        23   \n",
      "4      C0005     2034.24         7   \n",
      "\n",
      "                                            Category         Region  \\\n",
      "0  Home Decor Electronics Electronics Electronics...  South America   \n",
      "1            Home Decor Home Decor Clothing Clothing           Asia   \n",
      "2         Clothing Home Decor Home Decor Electronics  South America   \n",
      "3  Electronics Home Decor Books Books Home Decor ...  South America   \n",
      "4                 Electronics Home Decor Electronics           Asia   \n",
      "\n",
      "                                         ProfileText  \n",
      "0  South America Home Decor Electronics Electroni...  \n",
      "1       Asia Home Decor Home Decor Clothing Clothing  \n",
      "2  South America Clothing Home Decor Home Decor E...  \n",
      "3  South America Electronics Home Decor Books Boo...  \n",
      "4            Asia Electronics Home Decor Electronics  \n"
     ]
    }
   ],
   "source": [
    "# Encode text data (Region + Category)\n",
    "customer_profiles['ProfileText'] = customer_profiles['Region'] + ' ' + customer_profiles['Category']\n",
    "print(customer_profiles.head())"
   ]
  },
  {
   "cell_type": "code",
   "execution_count": 6,
   "id": "8092d253",
   "metadata": {},
   "outputs": [],
   "source": [
    "# Vectorize the profiles\n",
    "vectorizer = CountVectorizer()\n",
    "profile_vectors = vectorizer.fit_transform(customer_profiles['ProfileText'])"
   ]
  },
  {
   "cell_type": "code",
   "execution_count": 7,
   "id": "1b89b6c3",
   "metadata": {},
   "outputs": [],
   "source": [
    "# Compute similarity matrix\n",
    "similarity_matrix = cosine_similarity(profile_vectors)"
   ]
  },
  {
   "cell_type": "code",
   "execution_count": 8,
   "id": "a50b2780",
   "metadata": {},
   "outputs": [],
   "source": [
    "# Generate lookalikes\n",
    "lookalike_data = {}\n",
    "for idx, customer_id in enumerate(customer_profiles['CustomerID']):\n",
    "    similar_indices = similarity_matrix[idx].argsort()[::-1][1:4]  # Top 3 similar customers\n",
    "    lookalikes = [\n",
    "        (customer_profiles['CustomerID'][i], similarity_matrix[idx][i]) \n",
    "        for i in similar_indices\n",
    "    ]\n",
    "    lookalike_data[customer_id] = lookalikes"
   ]
  },
  {
   "cell_type": "code",
   "execution_count": 9,
   "id": "262c0827",
   "metadata": {},
   "outputs": [
    {
     "name": "stdout",
     "output_type": "stream",
     "text": [
      "  CustomerID                                         Lookalikes\n",
      "0      C0001  [('C0091', 0.9331389496316869), ('C0190', 0.92...\n",
      "1      C0002  [('C0134', 0.9805806756909203), ('C0159', 0.96...\n",
      "2      C0003  [('C0003', 1.0000000000000002), ('C0031', 1.00...\n",
      "3      C0004  [('C0113', 0.9697622757528539), ('C0047', 0.95...\n",
      "4      C0005  [('C0007', 0.9999999999999998), ('C0140', 0.94...\n",
      "Lookalike model results saved to 'Sahil_Gupta_Lookalike.csv'\n"
     ]
    }
   ],
   "source": [
    "# Save lookalike results to a CSV file\n",
    "lookalike_df = pd.DataFrame([\n",
    "    {'CustomerID': cust_id, 'Lookalikes': str(lookalike_data[cust_id])}\n",
    "    for cust_id in lookalike_data\n",
    "])\n",
    "lookalike_df.to_csv('Sahil_Gupta_Lookalike.csv', index=False)\n",
    "\n",
    "print(lookalike_df.head())\n",
    "print(\"Lookalike model results saved to 'Sahil_Gupta_Lookalike.csv'\")"
   ]
  },
  {
   "cell_type": "code",
   "execution_count": null,
   "id": "18d862f7",
   "metadata": {},
   "outputs": [],
   "source": []
  }
 ],
 "metadata": {
  "kernelspec": {
   "display_name": "Python 3 (ipykernel)",
   "language": "python",
   "name": "python3"
  },
  "language_info": {
   "codemirror_mode": {
    "name": "ipython",
    "version": 3
   },
   "file_extension": ".py",
   "mimetype": "text/x-python",
   "name": "python",
   "nbconvert_exporter": "python",
   "pygments_lexer": "ipython3",
   "version": "3.9.13"
  }
 },
 "nbformat": 4,
 "nbformat_minor": 5
}
